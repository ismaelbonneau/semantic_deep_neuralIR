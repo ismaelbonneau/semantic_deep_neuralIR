{
 "cells": [
  {
   "cell_type": "markdown",
   "metadata": {},
   "source": [
    "# DRMM (Deep Relevance Matching Model)\n",
    "\n",
    "_Ismaël Bonneau_\n",
    "\n",
    "\n",
    "But de ce notebook: Construire une architecture DRMM fonctionnelle avec Keras.\n",
    "\n",
    "Pour cela, 2 étapes:\n",
    "\n",
    "- construire la chaîne de pré traitements:\n",
    "    - générer des paires document-requête non pertinentes et pertinentes pour l'apprentissage\n",
    "    - générer des histogrammes d'interaction locales au niveau document-requête\n",
    "- construire l'architecture DRMM\n",
    "\n",
    "Les interractions sont pour le moment des interactions locales sur des word embeddings et sont mesurées comme une similarité cosinus entre les vecteurs des mots de la requête et ceux du document."
   ]
  },
  {
   "cell_type": "code",
   "execution_count": 1,
   "metadata": {},
   "outputs": [],
   "source": [
    "import numpy as np\n",
    "import matplotlib.pyplot as plt\n",
    "from os import sep\n",
    "import os\n",
    "import random\n",
    "\n",
    "import pickle\n",
    "\n",
    "%matplotlib inline\n",
    "%load_ext autoreload\n",
    "%autoreload 2\n",
    "\n",
    "embeddings_path = \"embeddings_wiki2017\"\n",
    "dataset_path = \"data\""
   ]
  },
  {
   "cell_type": "markdown",
   "metadata": {},
   "source": [
    "## Pré traitements: \n",
    "\n",
    "### Récupérer des word embeddings \n",
    "\n",
    "Ce word embedding a les caractéristiques suivantes:\n",
    "\n",
    "- FastText Continuous Skipgram\n",
    "- taille de vecteur ${300}$\n",
    "- window ${5}$\n",
    "- entrainé sur wikipédia février 2017 en langue anglaise\n",
    "- pas de lemmatisation\n",
    "- ${302815}$ mots\n",
    "\n",
    "http://vectors.nlpl.eu/repository/"
   ]
  },
  {
   "cell_type": "code",
   "execution_count": 4,
   "metadata": {},
   "outputs": [],
   "source": [
    "from gensim.models.wrappers import FastText\n",
    "\n",
    "model = FastText.load_fasttext_format('embeddings_wiki2017/parameters.bin')"
   ]
  },
  {
   "cell_type": "code",
   "execution_count": 5,
   "metadata": {
    "scrolled": true
   },
   "outputs": [
    {
     "data": {
      "text/plain": [
       "[('Montpellier', 0.789309024810791),\n",
       " ('Toulousain', 0.7702901363372803),\n",
       " ('Rennes', 0.7351198792457581),\n",
       " ('Carcassonne', 0.7334332466125488),\n",
       " ('Perpignan', 0.7310673594474792),\n",
       " ('Marseille', 0.7305486798286438),\n",
       " ('Narbonne', 0.7292917370796204),\n",
       " ('Nantes', 0.7145097255706787),\n",
       " ('Castres', 0.7123193740844727),\n",
       " ('Poitiers', 0.7071923017501831)]"
      ]
     },
     "execution_count": 5,
     "metadata": {},
     "output_type": "execute_result"
    }
   ],
   "source": [
    "model.most_similar(\"Toulouse\")"
   ]
  },
  {
   "cell_type": "markdown",
   "metadata": {},
   "source": [
    "### On Récupère les paires de pertinence/non pertinence pour chaque requête \n",
    "\n",
    "On génère un dictionnaire qui contient pour chaque requête en clé, un dictionnaire contenant 2 listes:\n",
    "- \"relevant\" contenant des id de document pertinents pour la requête.\n",
    "- \"irrelevant\" contenant des id de document non pertinents pour la requête."
   ]
  },
  {
   "cell_type": "code",
   "execution_count": 2,
   "metadata": {},
   "outputs": [],
   "source": [
    "paires = {}\n",
    "\n",
    "with open(dataset_path + sep + \"qrels.robust2004.txt\", \"r\") as f:\n",
    "    for line in f:\n",
    "        lol = line.split()\n",
    "        paires.setdefault(lol[0], {})\n",
    "        paires[lol[0]].setdefault('relevant', []) \n",
    "        paires[lol[0]].setdefault('irrelevant', [])\n",
    "        if lol[-1] == '1':\n",
    "            paires[lol[0]][\"relevant\"].append(lol[2])\n",
    "        else:\n",
    "            paires[lol[0]][\"irrelevant\"].append(lol[2])"
   ]
  },
  {
   "cell_type": "markdown",
   "metadata": {},
   "source": [
    "### On récupère les requêtes:\n",
    "\n",
    "Elles se trouvent sous forme de tuple ([mots clés], [texte de la requête]). On ne garde que les mots clés."
   ]
  },
  {
   "cell_type": "code",
   "execution_count": 26,
   "metadata": {},
   "outputs": [],
   "source": [
    "import ast\n",
    "from gensim.parsing.preprocessing import preprocess_string, strip_punctuation\n",
    "\n",
    "def clean(txt):\n",
    "    return txt.replace(\",\", \"\").replace(\".\", \"\")\n",
    "\n",
    "with open(dataset_path + sep + \"robust2004.txt\", \"r\") as f:\n",
    "    queries = ast.literal_eval(f.read())\n",
    "queries = {d:clean(queries[d][0]) for d in queries}"
   ]
  },
  {
   "cell_type": "code",
   "execution_count": 16,
   "metadata": {},
   "outputs": [
    {
     "name": "stdout",
     "output_type": "stream",
     "text": [
      "international organized crime\n",
      "foreign minorities germany\n"
     ]
    }
   ],
   "source": [
    "print(queries[\"301\"])\n",
    "print(queries[\"401\"])"
   ]
  },
  {
   "cell_type": "markdown",
   "metadata": {},
   "source": [
    "### Le DRMM a deux entrées: une entrée interactions et une entrée termes.\n",
    "\n",
    "L'entrée termes prend un vecteur d'idf des termes de la requête. Il faut donc pouvoir récupérer efficacement des idf. Pour cela, on construit un dictionnaire terme -> idf qui nous servira dans l'étape d'après."
   ]
  },
  {
   "cell_type": "code",
   "execution_count": 3,
   "metadata": {},
   "outputs": [],
   "source": [
    "#bon là on charge du coup vu que le fichier est sauvegardé sur le disque\n",
    "idf = pickle.load(open(\"idf_robust2004.pkl\", \"rb\"))"
   ]
  },
  {
   "cell_type": "code",
   "execution_count": 19,
   "metadata": {},
   "outputs": [],
   "source": [
    "import elasticsearch as es\n",
    "\n",
    "engine = es.Elasticsearch(['localhost:9200'], timeout=30, max_retries=10, retry_on_timeout=True)"
   ]
  },
  {
   "cell_type": "markdown",
   "metadata": {},
   "source": [
    "### On peut maintenant construire l'histogramme des interactions entre les embeddings de la requête et ceux du document.\n",
    "\n",
    "On prend comme exemple 4 bins: ${[-1, -0.5]}$ ${[-0.5, 0]}$ ${[0, 0.5]}$ ${[0.5, 1]}$.\n",
    "\n",
    "**Plusieurs manières de construire un histogramme**: compter le nombre de valeurs, compter puis normaliser..."
   ]
  },
  {
   "cell_type": "code",
   "execution_count": 6,
   "metadata": {},
   "outputs": [
    {
     "name": "stdout",
     "output_type": "stream",
     "text": [
      "query chargé\n",
      "\n",
      "relevance chargé\n",
      "\n"
     ]
    }
   ],
   "source": [
    "from load_data import Dataset\n",
    "\n",
    "inputgenerator = Dataset(intervals=30, model_wv=model)\n",
    "inputgenerator.load_idf(idf_file=\"idf_robust2004.pkl\")\n",
    "inputgenerator.load_all_query(file_query=\"data/robust2004.txt\")\n",
    "inputgenerator.load_relevance(file_rel=\"data/qrels.robust2004.txt\")"
   ]
  },
  {
   "cell_type": "code",
   "execution_count": 7,
   "metadata": {},
   "outputs": [
    {
     "name": "stdout",
     "output_type": "stream",
     "text": [
      "docs chargés\n",
      "\n"
     ]
    }
   ],
   "source": [
    "inputgenerator.load_all_docs()"
   ]
  },
  {
   "cell_type": "code",
   "execution_count": null,
   "metadata": {},
   "outputs": [],
   "source": [
    "inputgenerator.prepare_data_forNN()"
   ]
  },
  {
   "cell_type": "code",
   "execution_count": 3,
   "metadata": {},
   "outputs": [],
   "source": [
    "test_size = 0.2\n",
    "\n",
    "interractions_train = []\n",
    "interractions_test = []\n",
    "\n",
    "shapes_train = {}\n",
    "shapes_test = {}\n",
    "for id_requete in paires:\n",
    "    if id_requete != '634':\n",
    "        saintjeanlapuenta = np.load(\"saved_data/{}_interractions.npy\".format(id_requete))\n",
    "        if random.random() < test_size:\n",
    "            interractions_test.append(saintjeanlapuenta)\n",
    "            shapes_test[id_requete] = saintjeanlapuenta.shape[0]\n",
    "        else:\n",
    "            interractions_train.append(saintjeanlapuenta)\n",
    "            shapes_train[id_requete] = saintjeanlapuenta.shape[0]\n",
    "interractions_train = np.array(interractions_train)\n",
    "interractions_test = np.array(interractions_test)"
   ]
  },
  {
   "cell_type": "code",
   "execution_count": 4,
   "metadata": {},
   "outputs": [
    {
     "name": "stdout",
     "output_type": "stream",
     "text": [
      "(205,) (43,)\n"
     ]
    }
   ],
   "source": [
    "print(interractions_train.shape, interractions_test.shape)"
   ]
  },
  {
   "cell_type": "code",
   "execution_count": 5,
   "metadata": {},
   "outputs": [],
   "source": [
    "interractions_train = np.concatenate([interractions_train[i] for i in range(interractions_train.shape[0])])\n",
    "interractions_test = np.concatenate([interractions_test[i] for i in range(interractions_test.shape[0])])"
   ]
  },
  {
   "cell_type": "code",
   "execution_count": 6,
   "metadata": {},
   "outputs": [
    {
     "name": "stdout",
     "output_type": "stream",
     "text": [
      "(26648, 5, 30) (6114, 5, 30)\n"
     ]
    }
   ],
   "source": [
    "print(interractions_train.shape, interractions_test.shape)"
   ]
  },
  {
   "cell_type": "code",
   "execution_count": 7,
   "metadata": {},
   "outputs": [],
   "source": [
    "query_idf = pickle.load(open(\"saved_data/query_idf.pkl\", \"rb\"))\n",
    "\n",
    "idf_vec_train = []\n",
    "idf_vec_test = []\n",
    "\n",
    "for id_requete in shapes_train:\n",
    "    idf_vec_train.append(np.tile(query_idf[id_requete],(shapes_train[id_requete],1)))\n",
    "for id_requete in shapes_test:\n",
    "    idf_vec_test.append(np.tile(query_idf[id_requete],(shapes_test[id_requete],1)))\n",
    "    \n",
    "idf_vec_train = np.array(idf_vec_train)\n",
    "idf_vec_test = np.array(idf_vec_test)"
   ]
  },
  {
   "cell_type": "code",
   "execution_count": 8,
   "metadata": {},
   "outputs": [],
   "source": [
    "idf_vec_train = np.concatenate([idf_vec_train[i] for i in range(idf_vec_train.shape[0])])\n",
    "idf_vec_test = np.concatenate([idf_vec_test[i] for i in range(idf_vec_test.shape[0])])"
   ]
  },
  {
   "cell_type": "code",
   "execution_count": 9,
   "metadata": {},
   "outputs": [
    {
     "name": "stdout",
     "output_type": "stream",
     "text": [
      "(26648, 5) (6114, 5)\n"
     ]
    }
   ],
   "source": [
    "print(idf_vec_train.shape, idf_vec_test.shape)"
   ]
  },
  {
   "cell_type": "code",
   "execution_count": 10,
   "metadata": {},
   "outputs": [],
   "source": [
    "input_label_train = np.zeros(idf_vec_train.shape[0])\n",
    "input_label_train[::2] = 1\n",
    "input_label_test = np.zeros(idf_vec_test.shape[0])\n",
    "input_label_test[::2] = 1"
   ]
  },
  {
   "cell_type": "code",
   "execution_count": 11,
   "metadata": {},
   "outputs": [
    {
     "name": "stdout",
     "output_type": "stream",
     "text": [
      "(26648,) (6114,)\n"
     ]
    }
   ],
   "source": [
    "print(input_label_train.shape, input_label_test.shape) #ti as compris"
   ]
  },
  {
   "cell_type": "markdown",
   "metadata": {},
   "source": [
    "## Architecture du modèle\n",
    "\n",
    "## avec Keras\n",
    "\n",
    "OU ALORS utiliser matchzoo"
   ]
  },
  {
   "cell_type": "code",
   "execution_count": 84,
   "metadata": {},
   "outputs": [],
   "source": [
    "import keras\n",
    "from keras.models import Sequential, Model\n",
    "from keras.layers import Input, Embedding, Dense, Activation, Lambda, Permute, merge\n",
    "from keras.layers import Reshape, Dot\n",
    "from keras.activations import softmax\n",
    "\n",
    "\n",
    "def build_keras_model(params):\n",
    "    \"\"\"\n",
    "    \"\"\"\n",
    "    \n",
    "    initializer_interactions = keras.initializers.RandomUniform(minval=-0.1, maxval=0.1, seed=11)\n",
    "    initializer_gating = keras.initializers.RandomUniform(minval=-0.01, maxval=0.01, seed=11)\n",
    "    \n",
    "    #input interactions\n",
    "    interactions = Input(name='interactions', shape=(params['query_term_maxlen'], params['hist_size']))\n",
    "    \n",
    "    #input des term vectors de la query\n",
    "    query = Input(name='term_vector', shape=[params['query_term_maxlen']])\n",
    "\n",
    "    #partie feed forward\n",
    "    z = interactions\n",
    "    for i in range(len(params['hidden_sizes'])):\n",
    "        z = Dense(params['hidden_sizes'][i], kernel_initializer=initializer_interactions, name=\"dense_layer_{}\".format(i))(z)\n",
    "        z = Activation('tanh', name=\"activation_of_layer_{}\".format(i))(z)\n",
    "\n",
    "    z = Permute((2, 1))(z)\n",
    "    z = Reshape((params['query_term_maxlen'],))(z)\n",
    "\n",
    "    #la partie term gating\n",
    "    q_w = Dense(1, kernel_initializer=initializer_gating, use_bias=False, name=\"gating_W\")(query)\n",
    "    q_w = Lambda(lambda x: softmax(x, axis=1), output_shape=(params['query_term_maxlen'],))(q_w)\n",
    "    #q_w = Reshape((params[\"query_term_maxlen\"],))(q_w)\n",
    "\n",
    "    # combination of softmax(query term idf) and feed forward result per query term\n",
    "    out_ = Dot(axes=[1, 1], name='s')([z, q_w])\n",
    "\n",
    "    model = Model(inputs=[query, interactions], outputs=[out_])\n",
    "\n",
    "    return model\n",
    "\n",
    "# from https://github.com/faneshion/MatchZoo/blob/master/matchzoo/losses/rank_losses.py\n",
    "from keras.backend import tf\n",
    "from keras.losses import *\n",
    "from keras.layers import Lambda\n",
    "# y_true is IGNORED (!), you don't have to set a label to train (?)\n",
    "# y_pred contains the complete batch (!)\n",
    "#  -> the slicing splits the tensors in even and odd (pos and negative from the input)\n",
    "#  -> VERY IMPORTANT: The input data must not be shuffled !! shuffle = False\n",
    "\n",
    "def rank_hinge_loss(y_true, y_pred):\n",
    "\n",
    "    y_pos = Lambda(lambda a: a[::2, :], output_shape= (1,))(y_pred)\n",
    "    y_neg = Lambda(lambda a: a[1::2, :], output_shape= (1,))(y_pred)\n",
    "    \n",
    "    loss = K.maximum(0., 1. + y_neg - y_pos)\n",
    "    return K.mean(loss)\n",
    "\n",
    "#du coup pour l'entrainement dans le batch il faut aligner des paires de doc de la forme \n",
    "#positif-négatif-positif-négatif... etc"
   ]
  },
  {
   "cell_type": "code",
   "execution_count": 114,
   "metadata": {},
   "outputs": [],
   "source": [
    "params = {\n",
    "    \"hidden_sizes\": [30, 128, 64, 16, 1],\n",
    "    \"hist_size\": 30,\n",
    "    \"query_term_maxlen\": 5,\n",
    "    \"embedding_size\": 300\n",
    "}\n",
    "\n",
    "drmm = build_keras_model(params)\n",
    "drmm.compile(loss=rank_hinge_loss, optimizer='adam')"
   ]
  },
  {
   "cell_type": "code",
   "execution_count": 115,
   "metadata": {},
   "outputs": [
    {
     "name": "stdout",
     "output_type": "stream",
     "text": [
      "__________________________________________________________________________________________________\n",
      "Layer (type)                    Output Shape         Param #     Connected to                     \n",
      "==================================================================================================\n",
      "interactions (InputLayer)       (None, 5, 30)        0                                            \n",
      "__________________________________________________________________________________________________\n",
      "dense_layer_0 (Dense)           (None, 5, 30)        930         interactions[0][0]               \n",
      "__________________________________________________________________________________________________\n",
      "activation_of_layer_0 (Activati (None, 5, 30)        0           dense_layer_0[0][0]              \n",
      "__________________________________________________________________________________________________\n",
      "dense_layer_1 (Dense)           (None, 5, 128)       3968        activation_of_layer_0[0][0]      \n",
      "__________________________________________________________________________________________________\n",
      "activation_of_layer_1 (Activati (None, 5, 128)       0           dense_layer_1[0][0]              \n",
      "__________________________________________________________________________________________________\n",
      "dense_layer_2 (Dense)           (None, 5, 64)        8256        activation_of_layer_1[0][0]      \n",
      "__________________________________________________________________________________________________\n",
      "activation_of_layer_2 (Activati (None, 5, 64)        0           dense_layer_2[0][0]              \n",
      "__________________________________________________________________________________________________\n",
      "dense_layer_3 (Dense)           (None, 5, 16)        1040        activation_of_layer_2[0][0]      \n",
      "__________________________________________________________________________________________________\n",
      "activation_of_layer_3 (Activati (None, 5, 16)        0           dense_layer_3[0][0]              \n",
      "__________________________________________________________________________________________________\n",
      "dense_layer_4 (Dense)           (None, 5, 1)         17          activation_of_layer_3[0][0]      \n",
      "__________________________________________________________________________________________________\n",
      "activation_of_layer_4 (Activati (None, 5, 1)         0           dense_layer_4[0][0]              \n",
      "__________________________________________________________________________________________________\n",
      "term_vector (InputLayer)        (None, 5)            0                                            \n",
      "__________________________________________________________________________________________________\n",
      "permute_7 (Permute)             (None, 1, 5)         0           activation_of_layer_4[0][0]      \n",
      "__________________________________________________________________________________________________\n",
      "gating_W (Dense)                (None, 1)            5           term_vector[0][0]                \n",
      "__________________________________________________________________________________________________\n",
      "reshape_11 (Reshape)            (None, 5)            0           permute_7[0][0]                  \n",
      "__________________________________________________________________________________________________\n",
      "lambda_19 (Lambda)              (None, 5)            0           gating_W[0][0]                   \n",
      "__________________________________________________________________________________________________\n",
      "s (Dot)                         (None, 1)            0           reshape_11[0][0]                 \n",
      "                                                                 lambda_19[0][0]                  \n",
      "==================================================================================================\n",
      "Total params: 14,216\n",
      "Trainable params: 14,216\n",
      "Non-trainable params: 0\n",
      "__________________________________________________________________________________________________\n"
     ]
    }
   ],
   "source": [
    "drmm.summary()"
   ]
  },
  {
   "cell_type": "code",
   "execution_count": 118,
   "metadata": {
    "scrolled": true
   },
   "outputs": [],
   "source": [
    "history = drmm.fit([idf_vec_train, interractions_train], input_label_train, \n",
    "                   validation_data=[[idf_vec_test, interractions_test], input_label_test],\n",
    "                   batch_size=50, verbose=False, shuffle=False, epochs=300)"
   ]
  },
  {
   "cell_type": "code",
   "execution_count": 119,
   "metadata": {},
   "outputs": [
    {
     "data": {
      "image/png": "[encoded data removed]",
      "text/plain": [
       "<Figure size 432x288 with 1 Axes>"
      ]
     },
     "metadata": {
      "needs_background": "light"
     },
     "output_type": "display_data"
    }
   ],
   "source": [
    "plt.plot(history.history['loss'])\n",
    "plt.plot(history.history['val_loss'])\n",
    "plt.title('model loss')\n",
    "plt.ylabel('loss')\n",
    "plt.xlabel('epoch')\n",
    "plt.legend(['train', 'test'], loc='upper left')\n",
    "plt.show()"
   ]
  },
  {
   "cell_type": "markdown",
   "metadata": {},
   "source": [
    "## Avec pytorch"
   ]
  },
  {
   "cell_type": "code",
   "execution_count": 12,
   "metadata": {},
   "outputs": [],
   "source": [
    "import torch"
   ]
  },
  {
   "cell_type": "code",
   "execution_count": 93,
   "metadata": {},
   "outputs": [],
   "source": [
    "class DRMM(torch.nn.Module):\n",
    "    def __init__(self, hist_size, query_term_maxlen, hidden_sizes=[128,64,16,1], use_cuda=True):\n",
    "        \n",
    "        if hidden_sizes[-1] != 1:\n",
    "            raise ValueError(\"la taille du dernier layer doit être 1\")\n",
    "            \n",
    "        super(DRMM, self).__init__()\n",
    "        self.MLP = [torch.nn.Linear(hist_size, hidden_sizes[0])] + [\n",
    "            torch.nn.Linear(hidden_sizes[i-1], hidden_sizes[i]) for i in range(1, len(hidden_sizes))]\n",
    "        for i in range(len(self.MLP)):\n",
    "            torch.nn.init.xavier_normal_(self.MLP[i].weight, gain = torch.nn.init.calculate_gain('tanh'))\n",
    "            \n",
    "        #initialisation du vecteur de term gating\n",
    "        self.termgating = torch.nn.Linear(query_term_maxlen, query_term_maxlen, bias=False)\n",
    "        torch.nn.init.xavier_normal_(self.termgating.weight, gain = torch.nn.init.calculate_gain('tanh'))\n",
    "        \n",
    "    def forward(self, interractions, termvector):\n",
    "        \n",
    "        #partie histogramme\n",
    "        interractions_output = self.MLP[0](interractions)\n",
    "        interractions_output = torch.nn.functional.tanh(interractions_output)\n",
    "        for layer in self.MLP[1:]:\n",
    "            interractions_output = layer(interractions_output)\n",
    "            interractions_output = torch.nn.functional.tanh(interractions_output)\n",
    "        interractions_output = interractions_output.squeeze()\n",
    "        \n",
    "        #partie term gating \n",
    "        gating_output = torch.nn.functional.softmax(self.termgating(termvector)).squeeze()\n",
    "        \n",
    "        #combiner les 2 avec un produit scalaire\n",
    "        s = torch.sum(interractions_output * gating_output, dim = 0)\n",
    "        \n",
    "        return s\n",
    "\n",
    "    \n",
    "class HingeLoss(torch.nn.Module):\n",
    "    \"\"\"\n",
    "        Hinge Loss\n",
    "          max(0, 1-x+y)\n",
    "    \"\"\"\n",
    "    def __init__(self):\n",
    "        super(HingeLoss, self).__init__()\n",
    "\n",
    "    def forward(self, x, y):\n",
    "        output = 1 - x + y\n",
    "        return output.clamp(min = 0).mean()\n",
    "    \n",
    "    \n",
    "def get_model_size(model):\n",
    "    return sum([ p.size(0) if len(p.size()) == 1 else p.size(0)*p.size(1) for p in model.parameters()])"
   ]
  },
  {
   "cell_type": "code",
   "execution_count": 86,
   "metadata": {},
   "outputs": [],
   "source": [
    "from torch.autograd import Variable\n",
    "\n",
    "def prout(x):\n",
    "    return Variable(torch.from_numpy(x).type(torch.float))"
   ]
  },
  {
   "cell_type": "code",
   "execution_count": 94,
   "metadata": {},
   "outputs": [
    {
     "name": "stdout",
     "output_type": "stream",
     "text": [
      "OrderedDict([('termgating.weight', tensor([[-0.8218, -0.7770,  1.4140, -0.1482,  0.6942],\n",
      "        [ 0.3305, -0.7004,  0.5262,  0.2444,  0.2013],\n",
      "        [-0.3030,  0.0392, -0.8931, -0.7264,  0.6763],\n",
      "        [ 0.0644,  0.8886,  0.5998, -0.6017, -0.7318],\n",
      "        [ 0.0808, -1.2730,  0.1205, -0.5632, -0.5161]]))])\n",
      "OrderedDict([('termgating.weight', tensor([[-0.8213, -0.7765,  1.4145, -0.1477,  0.6947],\n",
      "        [ 0.3300, -0.7009,  0.5257,  0.2439,  0.2008],\n",
      "        [-0.3026,  0.0397, -0.8926, -0.7261,  0.6766],\n",
      "        [ 0.0639,  0.8881,  0.5993, -0.6022, -0.7323],\n",
      "        [ 0.0808, -1.2730,  0.1204, -0.5633, -0.5161]]))])\n"
     ]
    },
    {
     "name": "stderr",
     "output_type": "stream",
     "text": [
      "/home/ismael/anaconda3/lib/python3.7/site-packages/ipykernel_launcher.py:28: UserWarning: Implicit dimension choice for softmax has been deprecated. Change the call to include dim=X as an argument.\n"
     ]
    }
   ],
   "source": [
    "drmm = DRMM(30,5)\n",
    "\n",
    "print(drmm.state_dict())\n",
    "\n",
    "hingeloss = HingeLoss()\n",
    "optimizer = torch.optim.Adam(drmm.parameters(), lr = 0.0005)\n",
    "\n",
    "score_pos = drmm(prout(interractions_train[0]), prout(idf_vec_train[0]))\n",
    "score_neg = drmm(prout(interractions_train[1]), prout(idf_vec_train[1]))\n",
    "\n",
    "loss = hingeloss(score_pos, score_neg)\n",
    "loss.backward()\n",
    "optimizer.step()\n",
    "\n",
    "print(drmm.state_dict())"
   ]
  },
  {
   "cell_type": "code",
   "execution_count": null,
   "metadata": {},
   "outputs": [],
   "source": [
    "counter = []\n",
    "loss_history = [] \n",
    "iteration_number= 0\n",
    "\n",
    "net = DRRM()#.cuda()\n",
    "loss = HingeLoss()\n",
    "optimizer = optim.Adam(net.parameters(), learning_rate = 0.0005)\n",
    "for epoch in range(0,Config.train_number_epochs):\n",
    "    for i, data in enumerate(X,0):\n",
    "        query, docs = data\n",
    "            \n",
    "            \n",
    "        if i %10 == 0 :\n",
    "            print(\"Epoch number {}\\n Current loss {}\\n\".format(epoch,loss_contrastive.data[0]))\n",
    "            iteration_number +=10\n",
    "            counter.append(iteration_number)\n",
    "            loss_history.append(loss_contrastive.data[0])"
   ]
  }
 ],
 "metadata": {
  "kernelspec": {
   "display_name": "Python 3",
   "language": "python",
   "name": "python3"
  },
  "language_info": {
   "codemirror_mode": {
    "name": "ipython",
    "version": 3
   },
   "file_extension": ".py",
   "mimetype": "text/x-python",
   "name": "python",
   "nbconvert_exporter": "python",
   "pygments_lexer": "ipython3",
   "version": "3.7.1"
  }
 },
 "nbformat": 4,
 "nbformat_minor": 2
}
