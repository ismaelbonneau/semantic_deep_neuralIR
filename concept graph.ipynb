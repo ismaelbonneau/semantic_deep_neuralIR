{
 "cells": [
  {
   "cell_type": "markdown",
   "metadata": {},
   "source": [
    "# Concept graph\n",
    "\n",
    "### Creating concept graph from DBpedia\n",
    "\n",
    "#### Rappel des principales relations entre concepts:\n",
    "\n",
    "- Hypernyme: A est un hypernyme de B **si** B est un A (animal est hypernyme de chien)\n",
    "- Hyponyme: A est un hypernyme de B **si** A est un B (insuline est hypernyme de hormone)\n",
    "- Méronyme: A est méronyme de B **si** A est une partie de B (bras est méronyme de corps)"
   ]
  },
  {
   "cell_type": "code",
   "execution_count": 2,
   "metadata": {},
   "outputs": [],
   "source": [
    "import matplotlib.pyplot as plt\n",
    "import numpy as np\n",
    "import os\n",
    "import codecs\n",
    "\n",
    "concepts_path= \"/home/ismael/Documents/semantic_deep_neuralIR/data/annotated_collection_tagme_score/relation\""
   ]
  },
  {
   "cell_type": "markdown",
   "metadata": {},
   "source": [
    "### Là j'extrais les concepts du bail \n",
    "\n",
    "- https://wiki.dbpedia.org/Downloads2014\n",
    "- https://wiki.dbpedia.org/downloads-2016-10\n",
    "- https://wiki.dbpedia.org/data-set-39"
   ]
  },
  {
   "cell_type": "code",
   "execution_count": 92,
   "metadata": {},
   "outputs": [],
   "source": [
    "from bs4 import BeautifulSoup\n",
    "\n",
    "ontology_concepts = set({\"Thing\"})\n",
    "ontology_relations = []\n",
    "\n",
    "with open(\"data/dbpedia_3.4.owl\", \"r\") as file:\n",
    "    filecontent = file.read()\n",
    "    harira = BeautifulSoup(filecontent, \"html.parser\")\n",
    "    docs = harira.find_all(\"owl:class\")\n",
    "\n",
    "for ontology_class in docs:\n",
    "    if ontology_class.find(\"rdfs:label\"):\n",
    "        nom = ontology_class.contents[1].string.replace(\" \", \"\")\n",
    "        parent = ontology_class.contents[3][\"rdf:resource\"].replace(\"http://dbpedia.org/ontology/\", \"\")\n",
    "        ontology_concepts.add(nom)\n",
    "        if parent != \"http://www.w3.org/2002/07/owl#Thing\":\n",
    "            ontology_relations.append((parent, nom))\n",
    "        else:\n",
    "            ontology_relations.append((\"Thing\", nom))"
   ]
  },
  {
   "cell_type": "code",
   "execution_count": 86,
   "metadata": {},
   "outputs": [
    {
     "name": "stdout",
     "output_type": "stream",
     "text": [
      "il y a 205 concepts et 204 relations.\n"
     ]
    }
   ],
   "source": [
    "print(\"il y a {} concepts et {} relations.\".format(len(ontology_concepts), len(ontology_relations)))"
   ]
  },
  {
   "cell_type": "code",
   "execution_count": 90,
   "metadata": {},
   "outputs": [
    {
     "data": {
      "text/plain": [
       "False"
      ]
     },
     "execution_count": 90,
     "metadata": {},
     "output_type": "execute_result"
    }
   ],
   "source": [
    "\"Entomologist\" in ontology_concepts"
   ]
  },
  {
   "cell_type": "code",
   "execution_count": 97,
   "metadata": {},
   "outputs": [
    {
     "name": "stdout",
     "output_type": "stream",
     "text": [
      "il y a 766 concepts et 973 relations.\n"
     ]
    }
   ],
   "source": [
    "with open(\"data/dbpedia_2016-10.nt\", \"r\") as file:\n",
    "    for line in file:\n",
    "        lol = line.split(\" \")\n",
    "        if lol[1] == \"<http://www.w3.org/2000/01/rdf-schema#subClassOf>\":\n",
    "            nom = lol[0].replace('<http://dbpedia.org/ontology/', \"\")[:-1]\n",
    "            if '<http://dbpedia.org/ontology/' in lol[2]:\n",
    "                parent = lol[2].replace('<http://dbpedia.org/ontology/', \"\")[:-1]\n",
    "            elif \"<http://www.w3.org/2002/07/owl#Thing>\" in lol[2]:\n",
    "                parent = \"Thing\"\n",
    "            ontology_concepts.add(parent)\n",
    "            ontology_concepts.add(nom)\n",
    "            ontology_relations.append((parent, nom))\n",
    "print(\"il y a {} concepts et {} relations.\".format(len(ontology_concepts), len(ontology_relations)))"
   ]
  },
  {
   "cell_type": "code",
   "execution_count": 130,
   "metadata": {},
   "outputs": [
    {
     "data": {
      "text/plain": [
       "True"
      ]
     },
     "execution_count": 130,
     "metadata": {},
     "output_type": "execute_result"
    }
   ],
   "source": [
    "\"Mammal\" in ontology_concepts"
   ]
  },
  {
   "cell_type": "markdown",
   "metadata": {},
   "source": [
    "### Là j'ajoute les instances (entités nommées)\n",
    "\n",
    "Il y en a beaucoup trop, donc on sélectionne seulement:\n",
    "- Tous les concepts du corpus robust 2004\n",
    "- Tous les pays\n",
    "- Toutes les \"organisations\"\n",
    "\n",
    "### Lecture des concepts du corpus robust:"
   ]
  },
  {
   "cell_type": "code",
   "execution_count": 137,
   "metadata": {},
   "outputs": [],
   "source": [
    "#lecture du corpus annoté de Robust 2004\n",
    "corpus_concepts = set()\n",
    "\n",
    "for root, dirs, files in os.walk(concepts_path):\n",
    "    for file in files:\n",
    "        with open(root+os.sep+file, \"r\") as f:\n",
    "            for line in f:\n",
    "                for concept in line.strip().split(\"|\"):\n",
    "                    corpus_concepts.add(concept.replace(\"_\", \"\").replace(\"$#!\", \"\"))"
   ]
  },
  {
   "cell_type": "code",
   "execution_count": 139,
   "metadata": {},
   "outputs": [
    {
     "name": "stdout",
     "output_type": "stream",
     "text": [
      "il y a 82178 concepts.\n"
     ]
    }
   ],
   "source": [
    "print(\"il y a {} concepts.\".format(len(corpus_concepts)))"
   ]
  },
  {
   "cell_type": "code",
   "execution_count": 180,
   "metadata": {
    "scrolled": true
   },
   "outputs": [],
   "source": [
    "types_to_keep = [\"Organisation\", \"Country\"]\n",
    "\n",
    "instances_concepts = set()\n",
    "instances_relations = []\n",
    "\n",
    "with open(\"data/instance_types_en.nt\", \"r\") as file:\n",
    "    i = 0\n",
    "    bailencours = \"\"\n",
    "    relationsencours = []\n",
    "    for line in file:\n",
    "        if i > 0:\n",
    "            lol = line.split()\n",
    "            if \"<http://dbpedia.org/ontology/\" in lol[2]:\n",
    "                nom = lol[0].replace('<http://dbpedia.org/resource/', \"\")[:-1]\n",
    "                parent = lol[2].replace('<http://dbpedia.org/ontology/', \"\")[:-1]\n",
    "                if nom != bailencours:\n",
    "                    if (nom in corpus_concepts) or (\"Country\" in relationsencours):\n",
    "                        instances_concepts.add(bailencours)\n",
    "                        instances_relations.append((relationsencours[0], bailencours))\n",
    "                    bailencours = nom\n",
    "                    relationsencours = []\n",
    "                    \n",
    "                bailencours = nom\n",
    "                relationsencours.append(parent)\n",
    "        i+=1"
   ]
  },
  {
   "cell_type": "code",
   "execution_count": 193,
   "metadata": {},
   "outputs": [
    {
     "data": {
      "text/plain": [
       "11634"
      ]
     },
     "execution_count": 193,
     "metadata": {},
     "output_type": "execute_result"
    }
   ],
   "source": [
    "len(instances_concepts) + len(ontology_concepts)"
   ]
  },
  {
   "cell_type": "code",
   "execution_count": 199,
   "metadata": {},
   "outputs": [],
   "source": [
    "import pickle\n",
    "\n",
    "pickle.dump(ontology_concepts.union(instances_concepts), open('data/concepts.pkl', 'wb'))"
   ]
  },
  {
   "cell_type": "markdown",
   "metadata": {},
   "source": [
    "### Là je construis le graphe"
   ]
  },
  {
   "cell_type": "code",
   "execution_count": 183,
   "metadata": {},
   "outputs": [],
   "source": [
    "import networkx as nx\n",
    "\n",
    "G = nx.Graph()\n",
    "\n",
    "G.add_nodes_from(ontology_concepts)\n",
    "G.add_edges_from(ontology_relations)\n",
    "\n",
    "G.add_nodes_from(instances_concepts)\n",
    "G.add_edges_from(instances_relations)"
   ]
  },
  {
   "cell_type": "code",
   "execution_count": 198,
   "metadata": {},
   "outputs": [
    {
     "data": {
      "text/plain": [
       "['France',\n",
       " 'Country',\n",
       " 'PopulatedPlace',\n",
       " 'Place',\n",
       " 'Thing',\n",
       " 'Organisation',\n",
       " 'Company',\n",
       " 'Bethesda_Softworks']"
      ]
     },
     "execution_count": 198,
     "metadata": {},
     "output_type": "execute_result"
    }
   ],
   "source": [
    "list(nx.shortest_path(G, 'France', 'Bethesda_Softworks'))\n",
    "#list(G.neighbors('Bethesda_Softworks'))"
   ]
  },
  {
   "cell_type": "code",
   "execution_count": null,
   "metadata": {},
   "outputs": [],
   "source": [
    "plt.figure(figsize=(100,75))\n",
    "plt.axis(\"off\")\n",
    "nx.draw_networkx(G)\n",
    "plt.savefig(\"images/ontology.png\")\n",
    "plt.show()"
   ]
  }
 ],
 "metadata": {
  "kernelspec": {
   "display_name": "Python 3",
   "language": "python",
   "name": "python3"
  },
  "language_info": {
   "codemirror_mode": {
    "name": "ipython",
    "version": 3
   },
   "file_extension": ".py",
   "mimetype": "text/x-python",
   "name": "python",
   "nbconvert_exporter": "python",
   "pygments_lexer": "ipython3",
   "version": "3.7.1"
  }
 },
 "nbformat": 4,
 "nbformat_minor": 2
}
