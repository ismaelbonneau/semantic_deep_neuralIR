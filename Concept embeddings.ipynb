{
 "cells": [
  {
   "cell_type": "markdown",
   "metadata": {},
   "source": [
    "# Concept embeddings\n",
    "\n",
    "### But: calculer des embeddings de concepts wikipédia\n",
    "\n",
    "#### Qu'est ce qu'un concept wikipédia?\n",
    "\n",
    "Ici, un concept wikipédia est soit une définition de l'ontologie (personne, animal, lieu, ville, artiste, etc) soit une entité nommée, qui est un type d'un noeud de l'ontologie et qui possède une page wikipédia. Par exemple: Cory Barlog, qui est un Artist, qui est lui même un Person ou encore Paris, qui est une City, qui est lui même un PopulatedPlace.\n",
    "\n",
    "#### Comment calculer ces embeddings?\n",
    "\n",
    "Pour calculer ces embeddings, nous nous basons sur les résumés (abstract) des pages wikipédia correspondant à chacun de ces concepts. Il existe 2 tailles de résumés, short et long, nous essayons les deux. \n",
    "Ces résumés vont être donnés à un modèle doc2vec pour calculer une représentation en grande dimension dans laquelle deux articles (donc concepts ou named entities) proches en terme de sens le seront aussi.\n",
    "\n",
    "### Sources:\n",
    "\n",
    "- pour les entités nommées (qui correspondent à des pages wikipédia, type \"Bretagne\", \"Testostérone\", \"Napoléon Bonaparte\"), la source sera les datasets <a href=\"https://wiki.dbpedia.org/develop/datasets\">wikipédia</a>\n",
    "- Pour les concepts un niveau d'abstraction au dessus, la courte définition de l'ontologie définie par la relation rdf <http://www.w3.org/2000/01/rdf-schema#comment>"
   ]
  },
  {
   "cell_type": "code",
   "execution_count": 6,
   "metadata": {},
   "outputs": [],
   "source": [
    "import pickle\n",
    "import json\n",
    "import re\n",
    "from gensim.parsing.preprocessing import preprocess_string,remove_stopwords,strip_tags,strip_punctuation,strip_numeric,strip_multiple_whitespaces,strip_short\n",
    "import string\n",
    "table = str.maketrans('', '', '!\"#$%\\'()*+,-./:;<=>?@[\\\\]^_`{|}~')\n",
    "printable = set(string.printable)\n",
    "\n",
    "# Krovetz stemmer is a stemmer much less \"destructive\" than porter.\n",
    "from krovetzstemmer import Stemmer # good stemmer for IR\n",
    "ks = Stemmer()\n",
    "\n",
    "CUSTOM_FILTERS = [lambda x: x.lower(), strip_tags, strip_multiple_whitespaces, strip_punctuation, strip_numeric, lambda x:strip_short(x, minsize=3)] #, lambda x: ks.stem(x)"
   ]
  },
  {
   "cell_type": "code",
   "execution_count": 7,
   "metadata": {},
   "outputs": [],
   "source": [
    "concepts = pickle.load(open(\"data/concepts.pkl\", 'rb'))"
   ]
  },
  {
   "cell_type": "code",
   "execution_count": 8,
   "metadata": {},
   "outputs": [
    {
     "data": {
      "text/plain": [
       "118194"
      ]
     },
     "execution_count": 8,
     "metadata": {},
     "output_type": "execute_result"
    }
   ],
   "source": [
    "len(concepts)"
   ]
  },
  {
   "cell_type": "code",
   "execution_count": 10,
   "metadata": {},
   "outputs": [
    {
     "data": {
      "text/plain": [
       "False"
      ]
     },
     "execution_count": 10,
     "metadata": {},
     "output_type": "execute_result"
    }
   ],
   "source": [
    "\"Justice\" in concepts"
   ]
  },
  {
   "cell_type": "code",
   "execution_count": 4,
   "metadata": {},
   "outputs": [
    {
     "name": "stdout",
     "output_type": "stream",
     "text": [
      "collection saved.\n"
     ]
    }
   ],
   "source": [
    "#dictionnaire à sérialiser en JSON\n",
    "abstracts = {}\n",
    "files = [\"long_abstracts_en.nt\", \"long_abstracts_en_02.nt\"]\n",
    "\n",
    "for f in files:\n",
    "    with open(\"data/\"+f, \"r\", encoding=\"utf-8\") as file:\n",
    "        i = 0\n",
    "        for line in file:\n",
    "            if i > 0:\n",
    "                kelbay = line.split(\" \")\n",
    "                nom = kelbay[0].replace(\"<http://dbpedia.org/resource/\", \"\")[:-1]\n",
    "                if (nom in concepts) and (nom not in abstracts):\n",
    "                    text = \" \".join(preprocess_string(\" \".join(kelbay[2:]).encode('ascii', 'ignore').decode(\"utf-8\"), CUSTOM_FILTERS))\n",
    "                    abstracts[nom] = text\n",
    "            i += 1\n",
    "\n",
    "#les définitions de l'ontologie\n",
    "with open(\"data/dbpedia_2016-10.nt\", \"r\") as file:\n",
    "    for line in file:\n",
    "        lol = line.split(\" \")\n",
    "        if lol[1] == \"<http://www.w3.org/2000/01/rdf-schema#comment>\":\n",
    "            nom = lol[0].replace('<http://dbpedia.org/ontology/', \"\")[:-1]\n",
    "            if nom != \"\" and \"\\\"@en\" in \" \".join(lol[2:]) and nom in concepts and nom not in abstracts:\n",
    "                text = re.sub(r'https?:\\/\\/.*[\\r\\n]*', '', \" \".join(lol[2:]).replace(\"@en\", \"\"))\n",
    "                abstracts[nom] = \" \".join(preprocess_string(text.strip(), CUSTOM_FILTERS))\n",
    "    \n",
    "save = json.dumps(abstracts)\n",
    "with open(\"data/concepts_text.json\", \"w\") as f:\n",
    "    f.write(save)\n",
    "print(\"collection saved.\") "
   ]
  },
  {
   "cell_type": "code",
   "execution_count": 5,
   "metadata": {},
   "outputs": [
    {
     "name": "stdout",
     "output_type": "stream",
     "text": [
      "il y a 117756 definitions de concepts sur les 118194 concepts.\n"
     ]
    }
   ],
   "source": [
    "print(\"il y a {} definitions de concepts sur les {} concepts.\".format(len(abstracts), len(concepts)))"
   ]
  },
  {
   "cell_type": "code",
   "execution_count": 7,
   "metadata": {},
   "outputs": [
    {
     "data": {
      "text/plain": [
       "{'%C3%9Cberlingen__Reichsstadt_%C3%9Cberlingen__1',\n",
       " 'Aach,_Baden-W%C3%BCrttemberg__Herrschaft_Aach__1',\n",
       " 'Aalen__Reichsstadt_Aalen__1',\n",
       " 'Aarberg__rafschaft_Aarberg__1',\n",
       " 'Abbey_of_Saint_Gall__F%C3%BCrstabtei_St._Gallen__1',\n",
       " 'AcademicConference',\n",
       " 'Activity',\n",
       " 'AmateurBoxer',\n",
       " 'AmericanFootballCoach',\n",
       " 'AmericanFootballPlayer',\n",
       " 'AmericanFootballTeam',\n",
       " 'AmusementParkAttraction',\n",
       " 'AnatomicalStructure',\n",
       " 'Archeologist',\n",
       " 'ArcherPlayer',\n",
       " 'Aristocrat',\n",
       " \"Arlon__Maark_grofschaft_vun_Arel_lb_Marquisat_comt%C3%A9_d'Arl__1\",\n",
       " 'Article',\n",
       " 'ArtistDiscography',\n",
       " 'Athlete',\n",
       " 'Athletics',\n",
       " 'AthleticsPlayer',\n",
       " \"Augsburg__''Parit%C3%A4tische_Reichsstadt_Augsburg__1\",\n",
       " 'AustralianFootballTeam',\n",
       " 'AustralianRulesFootballPlayer',\n",
       " 'AutomobileEngine',\n",
       " 'AutomobilePlatform',\n",
       " 'BackScene',\n",
       " 'Bad_Kreuznach__Grafschaft_Sponheim-Kreuznach__1',\n",
       " 'Bad_Pyrmont__Grafschaft_F%C3%BCrstentum_Pyrmont__1',\n",
       " 'Bad_Urach__Grafschaft_Urach__1',\n",
       " 'Bad_Wimpfen__Reichsstadt_Wimpfen__1',\n",
       " 'Bad_Windsheim__Reichsstadt_Windsheim__1',\n",
       " 'BadmintonPlayer',\n",
       " 'Band',\n",
       " 'BaseballPlayer',\n",
       " 'BaseballSeason',\n",
       " 'BaseballTeam',\n",
       " 'BasketballPlayer',\n",
       " 'BasketballTeam',\n",
       " 'BeachVolleyballPlayer',\n",
       " 'Biathlete',\n",
       " 'Biberach_an_der_Riss__Parit%C3%A4tische_Reichsstadt_Biberach_an_der_Ri%C3%9F__1',\n",
       " 'BiologicalDatabase',\n",
       " 'Bishopric_of_Cammin__Hochstift_Cammina__1',\n",
       " 'BloodVessel',\n",
       " 'BobsleighAthlete',\n",
       " 'BodyOfWater',\n",
       " 'Bodybuilder',\n",
       " 'Boxer',\n",
       " 'BoxingCategory',\n",
       " 'BoxingStyle',\n",
       " 'BritishRoyalty',\n",
       " 'Broadcast',\n",
       " 'BrownDwarf',\n",
       " 'BullFighter',\n",
       " 'Burg_Stargard__Herrschaft_Stargard__1',\n",
       " 'Burgau__Herrschaft_Markgrafschaft_Burgau__1',\n",
       " 'BusCompany',\n",
       " 'BusinessPerson',\n",
       " 'CanadianFootballPlayer',\n",
       " 'CanadianFootballTeam',\n",
       " 'Canoeist',\n",
       " 'Cardinal',\n",
       " 'Caterer',\n",
       " 'CelestialBody',\n",
       " 'ChartsPlacements',\n",
       " 'ChemicalCompound',\n",
       " 'ChemicalElement',\n",
       " 'ChemicalSubstance',\n",
       " 'ChessPlayer',\n",
       " 'ChristianBishop',\n",
       " 'ChristianPatriarch',\n",
       " 'ClassicalMusicArtist',\n",
       " 'ClassicalMusicComposition',\n",
       " 'ClericalOrder',\n",
       " 'ClubMoss',\n",
       " 'Coach',\n",
       " 'CollegeCoach',\n",
       " 'ComedyGroup',\n",
       " 'Comic',\n",
       " 'ComicStrip',\n",
       " 'ComicsCharacter',\n",
       " 'ComicsCreator',\n",
       " 'Congressman',\n",
       " 'Conifer',\n",
       " 'Contest',\n",
       " 'Convention',\n",
       " 'ConveyorSystem',\n",
       " 'County_of_Saarbr%C3%BCcken',\n",
       " 'Crater',\n",
       " 'CricketGround',\n",
       " 'CricketTeam',\n",
       " 'Cricketer',\n",
       " 'Criminal',\n",
       " 'CrossCountrySkier',\n",
       " 'Curler',\n",
       " 'CyclingCompetition',\n",
       " 'CyclingRace',\n",
       " 'CyclingTeam',\n",
       " 'Cyclist',\n",
       " 'DTMRacer',\n",
       " 'Dancer',\n",
       " 'DartsPlayer',\n",
       " 'Department',\n",
       " 'Depth',\n",
       " 'Deputy',\n",
       " 'Device',\n",
       " 'DigitalCamera',\n",
       " 'Dikirnis__Location_of_Dekernes__1',\n",
       " 'Dinkelsb%C3%BChl__Parit%C3%A4tische_Reichsstadt_Dinkelsb%C3%BChl__1',\n",
       " 'DisneyCharacter',\n",
       " 'Doctor_Of_The_Church',\n",
       " 'EducationalInstitution',\n",
       " 'Egyptologist',\n",
       " 'ElectionDiagram',\n",
       " 'ElectricalSubstation',\n",
       " 'Entomologist',\n",
       " 'EthnicGroup',\n",
       " 'EurovisionSongContestEntry',\n",
       " 'Event',\n",
       " 'FashionDesigner',\n",
       " 'Fencer',\n",
       " 'FictionalCharacter',\n",
       " 'FigureSkater',\n",
       " 'FillingStation',\n",
       " 'FilmFestival',\n",
       " 'Five_Days_of_Milan__Governo_provvisorio_di_Milano_it__1',\n",
       " 'FloweringPlant',\n",
       " 'FootballLeagueSeason',\n",
       " 'FootballManager',\n",
       " 'FootballPlayer',\n",
       " 'FootballTeam',\n",
       " 'FormulaOneRacer',\n",
       " 'FormulaOneRacing',\n",
       " 'FormulaOneTeam',\n",
       " 'GaelicGamesPlayer',\n",
       " 'GatedCommunity',\n",
       " 'Gelnhausen__Reichsstadt_Gelnhausen__1',\n",
       " 'GeneLocation',\n",
       " 'GeologicalPeriod',\n",
       " 'GeopoliticalOrganisation',\n",
       " 'Gernrode__Reichsabtei_Sankt_Cyriakus_in_Gernrode__1',\n",
       " 'Gersau__Freistaat_und_Republik_Gersau__1',\n",
       " 'GivenName',\n",
       " 'Globularswarm',\n",
       " 'Gnetophytes',\n",
       " 'GolfCourse',\n",
       " 'GolfPlayer',\n",
       " 'GolfTournament',\n",
       " 'Goust__1',\n",
       " 'GrandPrix',\n",
       " 'GreenAlga',\n",
       " 'GridironFootballPlayer',\n",
       " 'GrossDomesticProduct',\n",
       " 'GrossDomesticProductPerCapita',\n",
       " 'HandballPlayer',\n",
       " 'HandballTeam',\n",
       " 'Heroic_Verse',\n",
       " 'HighDiver',\n",
       " 'HistoricBuilding',\n",
       " 'HistoricPlace',\n",
       " 'History_of_Libya_under_Muammar_Gaddafi____1',\n",
       " 'History_of_Libya_under_Muammar_Gaddafi__al-Jam%C4%81h%C4%ABr%C4%AByah_al-%E2%80%98Arab%C4%AByah_al-L%C4%ABb%C4%AByah_ash-Sha%E2%80%98b%C4%ABy__1',\n",
       " 'History_of_the_Ryukyu_Islands__%E7%90%89%E7%90%83%E5%9C%8B__1',\n",
       " 'HockeyClub',\n",
       " 'HockeyTeam',\n",
       " 'HollywoodCartoon',\n",
       " 'HorseRace',\n",
       " 'HorseRider',\n",
       " 'HorseRiding',\n",
       " 'HorseTrainer',\n",
       " 'Host',\n",
       " 'HotSpring',\n",
       " 'HumanDevelopmentIndex',\n",
       " 'HumanGene',\n",
       " 'HumanGeneLocation',\n",
       " 'Humorist',\n",
       " 'IceHockeyPlayer',\n",
       " 'Instrumentalist',\n",
       " 'Intercommunality',\n",
       " 'InternationalFootballLeagueEvent',\n",
       " 'Isny_im_Allg%C3%A4u__Reichsstadt_Isny_im_Allg%C3%A4u__1',\n",
       " 'Jovan_Nenad__%D0%94%D1%80%D1%83%D0%B3%D0%BE_%D0%A1%D1%80%D0%BF%D1%81%D0%BA%D0%BE_%D0%A6%D0%B0%D1%80%D1%81%D1%82%D0%B2%D0%BE_Drugo_Srpsko_Carstvo__1',\n",
       " 'L%C3%A4%C3%A4ne_County__L%C3%A4%C3%A4nemaa__1',\n",
       " 'LacrossePlayer',\n",
       " 'LaunchPad',\n",
       " 'LegalCase',\n",
       " 'LifeCycleEvent',\n",
       " 'Linguist',\n",
       " 'Locality',\n",
       " 'Lock',\n",
       " 'Lorsch_Abbey__Reichsabtei_Lorsch__1',\n",
       " 'LunarCrater',\n",
       " 'Mainz__Freie_Stadt_Mainz__1',\n",
       " 'MartialArtist',\n",
       " 'Maulbronn_Monastery__Reichskloster_Maulbronn__1',\n",
       " 'MeanOfTransportation',\n",
       " 'Medician',\n",
       " 'MemberOfParliament',\n",
       " 'MemberResistanceMovement',\n",
       " 'Merseburg__Herzogtum_Sachsen-Merseburg__1',\n",
       " 'MetroStation',\n",
       " 'Michael',\n",
       " 'MilitaryAircraft',\n",
       " 'MilitaryConflict',\n",
       " 'MilitaryPerson',\n",
       " 'MilitaryUnit',\n",
       " 'MilitaryVehicle',\n",
       " 'MixedMartialArtsEvent',\n",
       " 'MobilePhone',\n",
       " 'Model',\n",
       " 'MotocycleRacer',\n",
       " 'MotorRace',\n",
       " 'Motor_Hotel',\n",
       " 'MotorcycleRider',\n",
       " 'MotorsportRacer',\n",
       " 'MotorsportSeason',\n",
       " 'MouseGene',\n",
       " 'MouseGeneLocation',\n",
       " 'MovieGenre',\n",
       " 'MovingWalkway',\n",
       " 'MultiVolumePublication',\n",
       " 'Murderer',\n",
       " 'MusicFestival',\n",
       " 'MusicGenre',\n",
       " 'Musical',\n",
       " 'MusicalArtist',\n",
       " 'MusicalWork',\n",
       " 'MythologicalFigure',\n",
       " 'N%C3%BCrburg__rafschaft_N%C3%BCrburg__1',\n",
       " 'NCAATeamSeason',\n",
       " 'NarutoCharacter',\n",
       " 'NascarDriver',\n",
       " 'NationalCollegiateAthleticAssociationAthlete',\n",
       " 'NationalFootballLeagueEvent',\n",
       " 'NationalFootballLeagueSeason',\n",
       " 'NationalSoccerClub',\n",
       " 'National_Coalition_for_Syrian_Revolutionary_and_Opposition_Forces__yrian_Arab_Republic__1',\n",
       " 'NaturalEvent',\n",
       " 'NaturalRegion',\n",
       " 'Naumburg_(Saale)__Bistum_Naumburg-Zeitz__1',\n",
       " 'NetballPlayer',\n",
       " 'Neuenburg_am_Rhein__Reichsstadt_Neuenburg__1',\n",
       " 'Neumark__grafschaft_Brandenburg-K%C3%BCstrin__1',\n",
       " 'NobelPrize',\n",
       " 'Noble',\n",
       " 'Non-ProfitOrganisation',\n",
       " 'Nordhausen__Reichstadt_Nordhausen__1',\n",
       " 'NordicCombined',\n",
       " 'Northeim__Rittigau_or_Grafschaft_Northeim__1',\n",
       " 'NuclearPowerStation',\n",
       " 'Obernai__Reichst%C3%A0dt_Owernah_gsw_Reichsstadt_Oberehnheim_de__1',\n",
       " 'Oettingen_in_Bayern__Grafschaft_F%C3%BCrstentum_Oettingen__1',\n",
       " 'Offenburg__Reichsstadt_Offenburg__1',\n",
       " 'OfficeHolder',\n",
       " 'OldTerritory',\n",
       " 'OlympicEvent',\n",
       " 'OlympicResult',\n",
       " 'Olympics',\n",
       " 'On-SiteTransportation',\n",
       " 'Openswarm',\n",
       " 'Organisation',\n",
       " 'OverseasDepartment',\n",
       " 'Painter',\n",
       " 'PenaltyShootOut',\n",
       " 'PeriodOfArtisticStyle',\n",
       " 'PersonFunction',\n",
       " 'Pfullendorf__Reichsstadt_Pfullendorf__1',\n",
       " 'PlayboyPlaymate',\n",
       " 'Poem',\n",
       " 'PokerPlayer',\n",
       " 'PoliticalFunction',\n",
       " 'PoliticianSpouse',\n",
       " 'PowerStation',\n",
       " 'PrehistoricalPeriod',\n",
       " 'PrimeMinister',\n",
       " 'ProgrammingLanguage',\n",
       " 'ProtohistoricalPeriod',\n",
       " \"Provisional_People's_Committee_for_North_Korea\",\n",
       " 'PublicService',\n",
       " 'Pulmonary_Tuberculosis',\n",
       " 'Quote',\n",
       " 'Race',\n",
       " 'RaceHorse',\n",
       " 'RaceTrack',\n",
       " 'Racib%C3%B3rz__Herzogtum_Ratibor_de_Ksi%C4%99stwo_Raciborskie_pl__1',\n",
       " 'RacingDriver',\n",
       " 'RadioHost',\n",
       " 'RadioProgram',\n",
       " 'RailwayStation',\n",
       " 'RailwayTunnel',\n",
       " 'RallyDriver',\n",
       " 'Rapperswil__Herrschaft_Grafschaft_Rapperswil__1',\n",
       " 'Ravensburg__Parit%C3%A4tische_Reichsstadt_Ravensburg__1',\n",
       " 'RecordLabel',\n",
       " 'RecordOffice',\n",
       " 'Regency',\n",
       " 'Regensburg__Reichsstadt_Regensburg__1',\n",
       " 'Reichenau_Island__Reichskloster_Reichenau__1',\n",
       " 'Reipoltskirchen__Herrschaft_Reipoltskirchen__1',\n",
       " 'Relationship',\n",
       " 'Religious',\n",
       " 'ReligiousBuilding',\n",
       " 'ReligiousOrganisation',\n",
       " 'Reutlingen__Reichsstadt_Reutlingen__1',\n",
       " 'Rheinfelden__Herrschaft_Grafschaft%3F_Rheinfelden__1',\n",
       " 'Rheinfelden__Reichsstadt_Rheinfelden__1',\n",
       " 'Rietberg__rafschaft_Rietberg__1',\n",
       " 'RoadTunnel',\n",
       " 'RocketEngine',\n",
       " 'RollerCoaster',\n",
       " 'RomanEmperor',\n",
       " 'Roman_Catholic_Diocese_of_Passau__F%C3%BCrstbistum_Passau__1',\n",
       " \"Rosheim__Reichsstadt_Rosheim_de_''Ville_libre_imp%C3%A9riale_de__1\",\n",
       " 'Rothenburg_ob_der_Tauber__eichsstadt_Rothenburg__1',\n",
       " 'Rottweil__Reichskloster_Rottenm%C3%BCnster__1',\n",
       " 'Rottweil__Reichsstadt_Rottweil__1',\n",
       " 'Rower',\n",
       " 'Royalty',\n",
       " 'RugbyClub',\n",
       " 'RugbyPlayer',\n",
       " \"Sam'al__Kingdom_of_Sam'al__1\",\n",
       " 'SambaSchool',\n",
       " 'Sarrebourg__Reichsstadt_Saarburg_de_Ville_libre_de_Sarrebourg__1',\n",
       " 'Sch%C3%B6nburg_(Saale)__Herrschaft_Grafschaft,_F%C3%BCrstentum_Sch%C3%B6nburg__1',\n",
       " 'Schaffhausen__Reichskloster_Allerheiligen,_Schaffhausen__1',\n",
       " 'Schaffhausen__Reichsstadt_Schaffhausen__1',\n",
       " 'Schaumburg__rafschaft_Schaumburg__1',\n",
       " 'Schellenberg__Herrschaft_Schellenberg__1',\n",
       " 'Schlitz,_Hesse__Herrschaft_Reichsfreiherrschaft,_Grafschaft_Schlit__1',\n",
       " 'Schmalkalden__Herrschaft_Schmalkalden__1',\n",
       " 'Schw%C3%A4bisch_Gm%C3%BCnd__Reichsstadt_Schw%C3%A4bisch_Gm%C3%BCnd__1',\n",
       " 'Schw%C3%A4bisch_Hall__Reichsstadt_Schw%C3%A4bisch_Hall__1',\n",
       " 'Schweinfurt__Reichsstadt_Schweinfurt__1',\n",
       " 'Schwerin__Bistum_Schwerin__1',\n",
       " 'Schwerin__Grafschaft_Schwerin__1',\n",
       " 'ScreenWriter',\n",
       " 'Sculptor',\n",
       " 'Senator',\n",
       " 'SerialKiller',\n",
       " 'Settlement',\n",
       " 'ShoppingMall',\n",
       " 'Siegen-Wittgenstein__Grafschaft_Wittgenstein__1',\n",
       " 'Skater',\n",
       " 'SkiArea',\n",
       " 'SkiResort',\n",
       " 'Ski_jumper',\n",
       " 'Skier',\n",
       " 'SoapCharacter',\n",
       " 'SoccerClub',\n",
       " 'SoccerClubSeason',\n",
       " 'SoccerLeagueSeason',\n",
       " 'SoccerManager',\n",
       " 'SoccerPlayer',\n",
       " 'SoccerTournament',\n",
       " 'Soest,_Germany__Freie_Hansestadt_Soest__1',\n",
       " 'SolarEclipse',\n",
       " 'Solms__Grafschaft_Solms-Burg-Solms__1',\n",
       " 'Solms__Grafschaft_Solms__1',\n",
       " 'Solothurn__Reichsstadt_Solothurn__1',\n",
       " 'SpaceMission',\n",
       " 'SpaceShuttle',\n",
       " 'SpaceStation',\n",
       " 'SpeedSkater',\n",
       " 'SpeedwayRider',\n",
       " 'SpeedwayTeam',\n",
       " 'Speyer__eichsstadt_Speyer__1',\n",
       " 'SportCompetitionResult',\n",
       " 'SportFacility',\n",
       " 'SportsClub',\n",
       " 'SportsSeason',\n",
       " 'SportsTeam',\n",
       " 'SquashPlayer',\n",
       " 'St%C3%BChlingen__Landgrafschaft_St%C3%BChlingen__1',\n",
       " 'St._Gallen__Reichsstadt_Sankt_Gallen__1',\n",
       " 'State',\n",
       " 'Steinfurt__Herrschaft_Grafschaft_Steinfurt__1',\n",
       " 'StormSurge',\n",
       " 'Strasbourg__Reichsstadt_Stra%C3%9Fburg_de_Ville_libre_de_Strasbourg__1',\n",
       " 'SumoWrestler',\n",
       " 'SupremeCourtOfTheUnitedStatesCase',\n",
       " 'Surfer',\n",
       " 'T%C3%BCbingen__Pfalz_grafschaft_T%C3%BCbingen__1',\n",
       " 'Tecklenburg__rafschaft_Tecklenburg__1',\n",
       " 'TelevisionHost',\n",
       " 'TelevisionPersonality',\n",
       " 'TelevisionSeason',\n",
       " 'TelevisionShow',\n",
       " 'Tengen,_Germany__Herrschaft_Grafschaft_Tengen__1',\n",
       " 'TennisPlayer',\n",
       " 'TennisTournament',\n",
       " 'TermOfOffice',\n",
       " 'Thing',\n",
       " 'Thuringia____1',\n",
       " 'TimePeriod',\n",
       " 'TopicalConcept',\n",
       " \"Toul__Reichsstadt_Tull_de_''Ville_libre_de_Toul_fr__1\",\n",
       " 'TrainCarriage',\n",
       " 'TramStation',\n",
       " 'Transportation_System',\n",
       " 'Turckheim__Reichsstadt_T%C3%BCrkheim_de_Ville_libre_de_Turckheim_f__1',\n",
       " 'Unknown',\n",
       " 'Venue',\n",
       " 'Verden_an_der_Aller__eichsstadt_Verden__1',\n",
       " 'Verdun__Reichsstadt_Wirten_de_Ville_libre_de_Verdun_fr__1',\n",
       " 'Vianden__Grafschaft_Vianden__1',\n",
       " 'VicePresident',\n",
       " 'VicePrimeMinister',\n",
       " 'VoiceActor',\n",
       " 'VolleyballCoach',\n",
       " 'VolleyballPlayer',\n",
       " 'Wain_(W%C3%BCrttemberg)__Herrschaft_Wain__1',\n",
       " 'Waldburg__rafschaft_Waldburg__1',\n",
       " 'Wangen_im_Allg%C3%A4u__Reichsstadt_Wangen__1',\n",
       " 'Warburg__Freie_Reichsstadt_Warburg__1',\n",
       " 'Wartenberg,_Hesse__Grafschaft_Wartenberg-Roth__1',\n",
       " 'WaterPoloPlayer',\n",
       " 'WaterRide',\n",
       " 'WaterwayTunnel',\n",
       " 'Wei%C3%9Fenburg_in_Bayern__Reichsstadt_Wei%C3%9Fenburg_im_Nordgau__1',\n",
       " 'Wei%C3%9Fenstein__Herzogtum_Wei%C3%9Fenstein__1',\n",
       " 'Weil_der_Stadt__Reichstadt_Weil_der_Stadt__1',\n",
       " 'Wetzlar__eichsstadt_Wetzlar__1',\n",
       " 'Wind_Instrument',\n",
       " 'WineRegion',\n",
       " 'WinterSportPlayer',\n",
       " 'Wissembourg__Reichsabtei_Wei%C3%9Fenburg_de_Abbaye_imp%C3%A9riale_de_Wiss__1',\n",
       " 'WomensTennisAssociationTournament',\n",
       " 'Work',\n",
       " 'Worms,_Germany__Reichsstadt_Worms__1',\n",
       " 'Wrestler',\n",
       " 'WrestlingEvent',\n",
       " 'YearInSpaceflight',\n",
       " 'Zeeland__Graafschap_Zeeland__1',\n",
       " 'Zell_am_Harmersbach__Reichsstadt_Zell_am_Harmersbach__1'}"
      ]
     },
     "execution_count": 7,
     "metadata": {},
     "output_type": "execute_result"
    }
   ],
   "source": [
    "concepts - set(abstracts.keys())"
   ]
  },
  {
   "cell_type": "code",
   "execution_count": 6,
   "metadata": {},
   "outputs": [
    {
     "data": {
      "text/plain": [
       "'philosopher person with extensive knowledge philosophy who uses this knowledge their work typically solve philosophical problems philosophy concerned with studying the subject matter fields such aesthetics ethics epistemology logic metaphysics well social philosophy and political philosophy there sense which every human being philosopher accept very humanistic and generous interpretation this say that every human being has unique contribution ideas the society however more generally accepted interpretation academia that philosopher one who has attained philosophy teaches philosophy has published literature field philosophy peer reviewed journal widely accepted other philosophers philosopher'"
      ]
     },
     "execution_count": 6,
     "metadata": {},
     "output_type": "execute_result"
    }
   ],
   "source": [
    "abstracts[\"Philosopher\"]"
   ]
  },
  {
   "cell_type": "code",
   "execution_count": 9,
   "metadata": {},
   "outputs": [
    {
     "data": {
      "text/plain": [
       "'hormone from greek ubc uae impetus chemical released cell gland organ one part the body that affects cells other parts the organism only small amount hormone required alter cell metabolism essence chemical messenger that transports signal from one cell another all multicellular organisms produce hormones plant hormones are also called phytohormones hormones animals are often transported the blood cells respond hormone when they express specific receptor for that hormone the hormone binds the receptor protein resulting the activation signal transduction mechanism that ultimately leads cell type specific responses endocrine hormone molecules are secreted released directly into the bloodstream typically into fenestrated capillaries hormones with paracrine function diffuse through the interstitial spaces nearby target tissues variety exogenous chemical compounds both natural and synthetic have hormone like effects both humans and wildlife their interference with the synthesis secretion transport binding action elimination natural hormones the body can change the homeostasis reproduction development and behavior just endogenously produced hormones'"
      ]
     },
     "execution_count": 9,
     "metadata": {},
     "output_type": "execute_result"
    }
   ],
   "source": [
    "abstracts[\"Hormone\"]"
   ]
  },
  {
   "cell_type": "markdown",
   "metadata": {},
   "source": [
    "### Entrainement du modèle"
   ]
  },
  {
   "cell_type": "code",
   "execution_count": 9,
   "metadata": {},
   "outputs": [
    {
     "name": "stdout",
     "output_type": "stream",
     "text": [
      "CPU times: user 37min 5s, sys: 29.4 s, total: 37min 35s\n",
      "Wall time: 15min 21s\n"
     ]
    }
   ],
   "source": [
    "import gensim\n",
    "\n",
    "abstracts = json.load(open(\"data/concepts_text.json\", 'r'))\n",
    "\n",
    "train_corpus = [gensim.models.doc2vec.TaggedDocument(abstracts[s].split(), tags=[s]) for s in abstracts]\n",
    "\n",
    "model = gensim.models.doc2vec.Doc2Vec(vector_size=300, window=8, min_count=5, epochs=30, dm=1)\n",
    "model.build_vocab(train_corpus)\n",
    "\n",
    "#entrainement du modèle!\n",
    "%time model.train(train_corpus, total_examples=model.corpus_count, epochs=model.epochs)"
   ]
  },
  {
   "cell_type": "code",
   "execution_count": 166,
   "metadata": {},
   "outputs": [
    {
     "data": {
      "text/plain": [
       "'aristotle was greek philosopher and polymath student plato and teacher alexander the great his writings cover many subjects including physics metaphysics poetry theater music logic rhetoric linguistics politics government ethics biology and zoology together with plato and socrates plato teacher aristotle one the most important founding figures western philosophy aristotle writings were the first create comprehensive system western philosophy encompassing morality aesthetics logic science politics and metaphysics aristotle views the physical sciences profoundly shaped medieval scholarship and their influence extended well into the renaissance although they were ultimately replaced newtonian physics the zoological sciences some his observations were confirmed accurate only the century his works contain the earliest known formal study logic which was incorporated the late century into modern formal logic metaphysics aristotelianism had profound influence philosophical and theological thinking the islamic and jewish traditions the middle ages and continues influence christian theology especially the scholastic tradition the catholic church aristotle was well known among medieval muslim intellectuals and revered the first teacher his ethics though always influential gained renewed interest with the modern advent virtue ethics all aspects aristotle philosophy continue the object active academic study today though aristotle wrote many elegant treatises and dialogues cicero described his literary style river gold thought that the majority his writings are now lost and only about one third the original works have survived'"
      ]
     },
     "execution_count": 166,
     "metadata": {},
     "output_type": "execute_result"
    }
   ],
   "source": [
    "abstracts[\"Aristotle\"]"
   ]
  },
  {
   "cell_type": "code",
   "execution_count": 11,
   "metadata": {},
   "outputs": [],
   "source": [
    "model.save(\"embeddings/concepts\")"
   ]
  },
  {
   "cell_type": "code",
   "execution_count": 3,
   "metadata": {},
   "outputs": [],
   "source": [
    "import gensim\n",
    "\n",
    "model = gensim.models.doc2vec.Doc2Vec.load(\"embeddings/concepts\")"
   ]
  },
  {
   "cell_type": "code",
   "execution_count": 4,
   "metadata": {
    "scrolled": true
   },
   "outputs": [
    {
     "data": {
      "text/plain": [
       "[('Aristotle', 0.9999999403953552),\n",
       " ('Alfred_V._Kidder', 0.50833660364151),\n",
       " ('Socrates', 0.4701247215270996),\n",
       " ('Joseph_Margolis', 0.465733140707016),\n",
       " ('Otto_E._Neugebauer', 0.4652498960494995),\n",
       " ('Gottfried_Wilhelm_Leibniz', 0.4644862413406372),\n",
       " ('Constantine_Samuel_Rafinesque', 0.4617351293563843),\n",
       " ('Mongolian_Academy_of_Sciences', 0.46045464277267456),\n",
       " ('Ludwig_Feuerbach', 0.45850318670272827),\n",
       " ('Lucretius', 0.4526785910129547),\n",
       " (\"Euclid's_Elements\", 0.4521154761314392),\n",
       " ('Leonard_Bloomfield', 0.4511200785636902),\n",
       " ('Leonhard_Euler', 0.45068058371543884),\n",
       " ('John_Ruskin', 0.4505317211151123)]"
      ]
     },
     "execution_count": 4,
     "metadata": {},
     "output_type": "execute_result"
    }
   ],
   "source": [
    "model.docvecs.most_similar([model.docvecs[\"Aristotle\"]], topn=14)"
   ]
  },
  {
   "cell_type": "code",
   "execution_count": 5,
   "metadata": {},
   "outputs": [
    {
     "data": {
      "text/plain": [
       "[('Philosopher', 1.0),\n",
       " ('Riverhead_(town),_New_York', 0.6244463920593262),\n",
       " ('Romeo_discography', 0.6134164929389954),\n",
       " ('Rudolf_Lehmann_(SS_officer)', 0.6004624962806702),\n",
       " ('Dantan_I_(community_development_block)', 0.6004362106323242),\n",
       " ('Beylagan_District', 0.5977004766464233),\n",
       " ('Tiamat_(band)', 0.5936920642852783),\n",
       " ('Fayette_County,_Georgia', 0.5920968651771545),\n",
       " ('Collinsville,_Oklahoma', 0.5913281440734863),\n",
       " ('Babadzhan', 0.5909887552261353),\n",
       " ('Crowley_County,_Colorado', 0.5905856490135193),\n",
       " ('Hexachlorobutadiene', 0.5903594493865967),\n",
       " ('Kyshlak', 0.5902799367904663),\n",
       " ('Bruce_Sterling', 0.5901660919189453)]"
      ]
     },
     "execution_count": 5,
     "metadata": {},
     "output_type": "execute_result"
    }
   ],
   "source": [
    "model.docvecs.most_similar([model.docvecs[\"Philosopher\"]], topn=14)"
   ]
  }
 ],
 "metadata": {
  "kernelspec": {
   "display_name": "Python 3",
   "language": "python",
   "name": "python3"
  },
  "language_info": {
   "codemirror_mode": {
    "name": "ipython",
    "version": 3
   },
   "file_extension": ".py",
   "mimetype": "text/x-python",
   "name": "python",
   "nbconvert_exporter": "python",
   "pygments_lexer": "ipython3",
   "version": "3.7.1"
  }
 },
 "nbformat": 4,
 "nbformat_minor": 2
}
